{
 "cells": [
  {
   "cell_type": "code",
   "execution_count": 152,
   "metadata": {
    "collapsed": true
   },
   "outputs": [],
   "source": [
    "#The HR Analytics dateset from kaggle competitions \n",
    "#Import of  necessary libraries, Modules and classifiers\n",
    "import numpy as np  #fundamental package for scientific computing with Python\n",
    "import pandas as pd #package providing fast, flexible, and expressive data structures\n",
    "import statsmodels.api as sm # import statsmodels \n",
    "import matplotlib.pyplot as plt #library for plotting 2dimensional graphs\n",
    "\n",
    "from sklearn import linear_model #load the packages for using a linear regression model\n",
    "from sklearn.metrics import mean_absolute_error #module for calculating Mean Absolute Error\n",
    "from sklearn.metrics import mean_squared_error #module for calculating Mean Saquared Error\n",
    "from sklearn import metrics #for calculating metrics\n",
    "from time import time #provides various time-related functions\n",
    "from sklearn.model_selection import train_test_split #utility function to split the data into a \n",
    "#development set used for fitting a GridSearchCV instance and an evaluation set for its final evaluation"
   ]
  },
  {
   "cell_type": "code",
   "execution_count": 153,
   "metadata": {
    "collapsed": false
   },
   "outputs": [
    {
     "data": {
      "text/html": [
       "<div>\n",
       "<style>\n",
       "    .dataframe thead tr:only-child th {\n",
       "        text-align: right;\n",
       "    }\n",
       "\n",
       "    .dataframe thead th {\n",
       "        text-align: left;\n",
       "    }\n",
       "\n",
       "    .dataframe tbody tr th {\n",
       "        vertical-align: top;\n",
       "    }\n",
       "</style>\n",
       "<table border=\"1\" class=\"dataframe\">\n",
       "  <thead>\n",
       "    <tr style=\"text-align: right;\">\n",
       "      <th></th>\n",
       "      <th>satisfaction_level</th>\n",
       "      <th>last_evaluation</th>\n",
       "      <th>number_project</th>\n",
       "      <th>average_montly_hours</th>\n",
       "      <th>time_spend_company</th>\n",
       "      <th>Work_accident</th>\n",
       "      <th>left</th>\n",
       "      <th>promotion_last_5years</th>\n",
       "      <th>sales</th>\n",
       "      <th>salary</th>\n",
       "    </tr>\n",
       "  </thead>\n",
       "  <tbody>\n",
       "    <tr>\n",
       "      <th>0</th>\n",
       "      <td>0.38</td>\n",
       "      <td>0.53</td>\n",
       "      <td>2</td>\n",
       "      <td>157</td>\n",
       "      <td>3</td>\n",
       "      <td>0</td>\n",
       "      <td>1</td>\n",
       "      <td>0</td>\n",
       "      <td>sales</td>\n",
       "      <td>low</td>\n",
       "    </tr>\n",
       "    <tr>\n",
       "      <th>1</th>\n",
       "      <td>0.80</td>\n",
       "      <td>0.86</td>\n",
       "      <td>5</td>\n",
       "      <td>262</td>\n",
       "      <td>6</td>\n",
       "      <td>0</td>\n",
       "      <td>1</td>\n",
       "      <td>0</td>\n",
       "      <td>sales</td>\n",
       "      <td>medium</td>\n",
       "    </tr>\n",
       "    <tr>\n",
       "      <th>2</th>\n",
       "      <td>0.11</td>\n",
       "      <td>0.88</td>\n",
       "      <td>7</td>\n",
       "      <td>272</td>\n",
       "      <td>4</td>\n",
       "      <td>0</td>\n",
       "      <td>1</td>\n",
       "      <td>0</td>\n",
       "      <td>sales</td>\n",
       "      <td>medium</td>\n",
       "    </tr>\n",
       "    <tr>\n",
       "      <th>3</th>\n",
       "      <td>0.72</td>\n",
       "      <td>0.87</td>\n",
       "      <td>5</td>\n",
       "      <td>223</td>\n",
       "      <td>5</td>\n",
       "      <td>0</td>\n",
       "      <td>1</td>\n",
       "      <td>0</td>\n",
       "      <td>sales</td>\n",
       "      <td>low</td>\n",
       "    </tr>\n",
       "    <tr>\n",
       "      <th>4</th>\n",
       "      <td>0.37</td>\n",
       "      <td>0.52</td>\n",
       "      <td>2</td>\n",
       "      <td>159</td>\n",
       "      <td>3</td>\n",
       "      <td>0</td>\n",
       "      <td>1</td>\n",
       "      <td>0</td>\n",
       "      <td>sales</td>\n",
       "      <td>low</td>\n",
       "    </tr>\n",
       "  </tbody>\n",
       "</table>\n",
       "</div>"
      ],
      "text/plain": [
       "   satisfaction_level  last_evaluation  number_project  average_montly_hours  \\\n",
       "0                0.38             0.53               2                   157   \n",
       "1                0.80             0.86               5                   262   \n",
       "2                0.11             0.88               7                   272   \n",
       "3                0.72             0.87               5                   223   \n",
       "4                0.37             0.52               2                   159   \n",
       "\n",
       "   time_spend_company  Work_accident  left  promotion_last_5years  sales  \\\n",
       "0                   3              0     1                      0  sales   \n",
       "1                   6              0     1                      0  sales   \n",
       "2                   4              0     1                      0  sales   \n",
       "3                   5              0     1                      0  sales   \n",
       "4                   3              0     1                      0  sales   \n",
       "\n",
       "   salary  \n",
       "0     low  \n",
       "1  medium  \n",
       "2  medium  \n",
       "3     low  \n",
       "4     low  "
      ]
     },
     "execution_count": 153,
     "metadata": {},
     "output_type": "execute_result"
    }
   ],
   "source": [
    "hr_data=pd.read_csv('.\\HR_comma_sep.csv',header=0) #read the data from a csv-file; ensure that the  \n",
    "#values are separated by commas otherwise you need to specify the delimiter explicitly within the load-statement\n",
    "\n",
    "hr_data.head() #show the first five entries; attribute in brackets will give the # of printed lines "
   ]
  },
  {
   "cell_type": "code",
   "execution_count": 154,
   "metadata": {
    "collapsed": true
   },
   "outputs": [],
   "source": [
    "hr_data_new = pd.get_dummies(hr_data, ['department', 'salary'] ,drop_first = True) #Whether to get k-1 \n",
    "#dummies out of k categorical levels by removing the first level. New in Pandas version 0.18.0."
   ]
  },
  {
   "cell_type": "code",
   "execution_count": 155,
   "metadata": {
    "collapsed": false
   },
   "outputs": [],
   "source": [
    "#separate X (feature-variables) and y (target-variable)\n",
    "X = hr_data_new.drop('satisfaction_level', axis=1) #Drop the target-variable from the features  \n",
    "y = hr_data_new['satisfaction_level']  #set it to y\n",
    "\n",
    "#split the data set into train and test set; proportion of test size = 10%\n",
    "X_train, X_test, y_train, y_test = train_test_split(X, y, test_size = 0.1, random_state = 42)\n",
    "#using the same random_state (fixed seed ) will always produce the same result"
   ]
  },
  {
   "cell_type": "code",
   "execution_count": 156,
   "metadata": {
    "collapsed": false
   },
   "outputs": [
    {
     "name": "stdout",
     "output_type": "stream",
     "text": [
      "normal linear Regression took\n",
      " training time:  0.027 s\n"
     ]
    }
   ],
   "source": [
    "# instantiate the model; standard linear regression approach\n",
    "lr = linear_model.LinearRegression(normalize=True, ) #regressors are normalized, note that this \n",
    "#makes the hyperparameters learnt more robust and almost independent from the number of samples\n",
    "\n",
    "t0=time() #we use time() functionality to see how long training of the classifier will take\n",
    "#fit the model to the data\n",
    "linreg=lr.fit(X_train,y_train)\n",
    "\n",
    "print(\"normal linear Regression took\\n training time: \", round(time()-t0,3), \"s\")  #We print the \n",
    "#training time, that is equal to the processing time of the cell."
   ]
  },
  {
   "cell_type": "code",
   "execution_count": 157,
   "metadata": {
    "collapsed": false
   },
   "outputs": [
    {
     "data": {
      "image/png": "[encoded data removed]",
      "text/plain": [
       "<matplotlib.figure.Figure at 0x226d7261b70>"
      ]
     },
     "metadata": {},
     "output_type": "display_data"
    }
   ],
   "source": [
    "#plot predicted vs. test values - shows the quality of the model visually\n",
    "y_pred = lr.predict(X_test) #Predict labels based on the testing features\n",
    "\n",
    "plt.title('Graphical linear Model Evaluation') #printing the titel of the plot\n",
    "plt.xlabel('Predicted Satisfaction Level') #naming the x-axis of the plot\n",
    "plt.ylabel('Actual Satisfaction Level') #naming the y-axis  of the plot\n",
    "\n",
    "actual_values = y_test\n",
    "plt.scatter(y_pred, actual_values,alpha=.75, color='black')  #plots the predicted values\n",
    "#against the testing values\n",
    "plt.plot(y_test,y_test,linewidth=2.0) #draws a lineplot symbolizing the angle bisectrix \n",
    "\n",
    "plt.show()"
   ]
  },
  {
   "cell_type": "code",
   "execution_count": 166,
   "metadata": {
    "collapsed": false
   },
   "outputs": [
    {
     "name": "stdout",
     "output_type": "stream",
     "text": [
      "absolute error is: \n",
      " 0.178341413421\n",
      "RMSE is: \n",
      " 0.0496778356633\n"
     ]
    }
   ],
   "source": [
    "#regression metrics for linear regression model\n",
    "ae=mean_absolute_error(y_test, y_pred) #calculating the the Mean Absolute Error betw. train- and test-set\n",
    "print ('absolute error is: \\n', ae)\n",
    "\n",
    "#Mean squared Error, Compared to Mean Absolute Error, RMSE amplifies and severely punishes large errors\n",
    "print ('RMSE is: \\n', mean_squared_error(y_test, y_pred))"
   ]
  },
  {
   "cell_type": "code",
   "execution_count": 159,
   "metadata": {
    "collapsed": false
   },
   "outputs": [
    {
     "name": "stdout",
     "output_type": "stream",
     "text": [
      "0.617471814574\n",
      "[  2.41537082e-01  -4.07147700e-02   1.94566343e-04  -4.51634149e-03\n",
      "   1.38237345e-03  -2.26086694e-01   2.81970714e-03  -1.38231668e-02\n",
      "  -2.43199266e-02  -6.94839692e-03  -3.16897064e-03  -4.77138296e-03\n",
      "   3.40702101e-03   1.37541831e-03   1.84608730e-03  -6.93563248e-04\n",
      "   1.03726806e-02   1.25802755e-02]\n"
     ]
    }
   ],
   "source": [
    "#print the intercept and coefficients of the model\n",
    "print(linreg.intercept_)\n",
    "print(lr.coef_)"
   ]
  },
  {
   "cell_type": "code",
   "execution_count": 160,
   "metadata": {
    "collapsed": false
   },
   "outputs": [
    {
     "data": {
      "text/html": [
       "<table class=\"simpletable\">\n",
       "<caption>OLS Regression Results</caption>\n",
       "<tr>\n",
       "  <th>Dep. Variable:</th>    <td>satisfaction_level</td> <th>  R-squared:         </th> <td>   0.870</td>\n",
       "</tr>\n",
       "<tr>\n",
       "  <th>Model:</th>                    <td>OLS</td>        <th>  Adj. R-squared:    </th> <td>   0.870</td>\n",
       "</tr>\n",
       "<tr>\n",
       "  <th>Method:</th>              <td>Least Squares</td>   <th>  F-statistic:       </th> <td>   5577.</td>\n",
       "</tr>\n",
       "<tr>\n",
       "  <th>Date:</th>              <td>Mon, 13 Nov 2017</td>  <th>  Prob (F-statistic):</th>  <td>  0.00</td> \n",
       "</tr>\n",
       "<tr>\n",
       "  <th>Time:</th>                  <td>14:11:24</td>      <th>  Log-Likelihood:    </th> <td>  228.51</td>\n",
       "</tr>\n",
       "<tr>\n",
       "  <th>No. Observations:</th>       <td> 14999</td>       <th>  AIC:               </th> <td>  -421.0</td>\n",
       "</tr>\n",
       "<tr>\n",
       "  <th>Df Residuals:</th>           <td> 14981</td>       <th>  BIC:               </th> <td>  -283.9</td>\n",
       "</tr>\n",
       "<tr>\n",
       "  <th>Df Model:</th>               <td>    18</td>       <th>                     </th>     <td> </td>   \n",
       "</tr>\n",
       "<tr>\n",
       "  <th>Covariance Type:</th>       <td>nonrobust</td>     <th>                     </th>     <td> </td>   \n",
       "</tr>\n",
       "</table>\n",
       "<table class=\"simpletable\">\n",
       "<tr>\n",
       "             <td></td>               <th>coef</th>     <th>std err</th>      <th>t</th>      <th>P>|t|</th>  <th>[0.025</th>    <th>0.975]</th>  \n",
       "</tr>\n",
       "<tr>\n",
       "  <th>last_evaluation</th>        <td>    0.4367</td> <td>    0.012</td> <td>   37.250</td> <td> 0.000</td> <td>    0.414</td> <td>    0.460</td>\n",
       "</tr>\n",
       "<tr>\n",
       "  <th>number_project</th>         <td>   -0.0343</td> <td>    0.002</td> <td>  -18.963</td> <td> 0.000</td> <td>   -0.038</td> <td>   -0.031</td>\n",
       "</tr>\n",
       "<tr>\n",
       "  <th>average_montly_hours</th>   <td>    0.0008</td> <td> 4.19e-05</td> <td>   19.237</td> <td> 0.000</td> <td>    0.001</td> <td>    0.001</td>\n",
       "</tr>\n",
       "<tr>\n",
       "  <th>time_spend_company</th>     <td>    0.0079</td> <td>    0.001</td> <td>    5.826</td> <td> 0.000</td> <td>    0.005</td> <td>    0.011</td>\n",
       "</tr>\n",
       "<tr>\n",
       "  <th>Work_accident</th>          <td>    0.0133</td> <td>    0.006</td> <td>    2.380</td> <td> 0.017</td> <td>    0.002</td> <td>    0.024</td>\n",
       "</tr>\n",
       "<tr>\n",
       "  <th>left</th>                   <td>   -0.2320</td> <td>    0.005</td> <td>  -48.633</td> <td> 0.000</td> <td>   -0.241</td> <td>   -0.223</td>\n",
       "</tr>\n",
       "<tr>\n",
       "  <th>promotion_last_5years</th>  <td>    0.0206</td> <td>    0.014</td> <td>    1.497</td> <td> 0.135</td> <td>   -0.006</td> <td>    0.047</td>\n",
       "</tr>\n",
       "<tr>\n",
       "  <th>department_RandD</th>       <td>    0.1334</td> <td>    0.010</td> <td>   12.844</td> <td> 0.000</td> <td>    0.113</td> <td>    0.154</td>\n",
       "</tr>\n",
       "<tr>\n",
       "  <th>department_accounting</th>  <td>    0.1229</td> <td>    0.010</td> <td>   11.763</td> <td> 0.000</td> <td>    0.102</td> <td>    0.143</td>\n",
       "</tr>\n",
       "<tr>\n",
       "  <th>department_hr</th>          <td>    0.1410</td> <td>    0.011</td> <td>   13.330</td> <td> 0.000</td> <td>    0.120</td> <td>    0.162</td>\n",
       "</tr>\n",
       "<tr>\n",
       "  <th>department_management</th>  <td>    0.1660</td> <td>    0.011</td> <td>   14.659</td> <td> 0.000</td> <td>    0.144</td> <td>    0.188</td>\n",
       "</tr>\n",
       "<tr>\n",
       "  <th>department_marketing</th>   <td>    0.1480</td> <td>    0.010</td> <td>   14.681</td> <td> 0.000</td> <td>    0.128</td> <td>    0.168</td>\n",
       "</tr>\n",
       "<tr>\n",
       "  <th>department_product_mng</th> <td>    0.1482</td> <td>    0.010</td> <td>   14.961</td> <td> 0.000</td> <td>    0.129</td> <td>    0.168</td>\n",
       "</tr>\n",
       "<tr>\n",
       "  <th>department_sales</th>       <td>    0.1468</td> <td>    0.007</td> <td>   20.912</td> <td> 0.000</td> <td>    0.133</td> <td>    0.161</td>\n",
       "</tr>\n",
       "<tr>\n",
       "  <th>department_support</th>     <td>    0.1477</td> <td>    0.008</td> <td>   18.895</td> <td> 0.000</td> <td>    0.132</td> <td>    0.163</td>\n",
       "</tr>\n",
       "<tr>\n",
       "  <th>department_technical</th>   <td>    0.1428</td> <td>    0.008</td> <td>   19.003</td> <td> 0.000</td> <td>    0.128</td> <td>    0.158</td>\n",
       "</tr>\n",
       "<tr>\n",
       "  <th>salary_low</th>             <td>    0.1629</td> <td>    0.007</td> <td>   24.113</td> <td> 0.000</td> <td>    0.150</td> <td>    0.176</td>\n",
       "</tr>\n",
       "<tr>\n",
       "  <th>salary_medium</th>          <td>    0.1613</td> <td>    0.007</td> <td>   23.823</td> <td> 0.000</td> <td>    0.148</td> <td>    0.175</td>\n",
       "</tr>\n",
       "</table>\n",
       "<table class=\"simpletable\">\n",
       "<tr>\n",
       "  <th>Omnibus:</th>       <td>464.829</td> <th>  Durbin-Watson:     </th> <td>   1.972</td> \n",
       "</tr>\n",
       "<tr>\n",
       "  <th>Prob(Omnibus):</th> <td> 0.000</td>  <th>  Jarque-Bera (JB):  </th> <td> 481.657</td> \n",
       "</tr>\n",
       "<tr>\n",
       "  <th>Skew:</th>          <td>-0.417</td>  <th>  Prob(JB):          </th> <td>2.57e-105</td>\n",
       "</tr>\n",
       "<tr>\n",
       "  <th>Kurtosis:</th>      <td> 2.727</td>  <th>  Cond. No.          </th> <td>2.09e+03</td> \n",
       "</tr>\n",
       "</table>"
      ],
      "text/plain": [
       "<class 'statsmodels.iolib.summary.Summary'>\n",
       "\"\"\"\n",
       "                            OLS Regression Results                            \n",
       "==============================================================================\n",
       "Dep. Variable:     satisfaction_level   R-squared:                       0.870\n",
       "Model:                            OLS   Adj. R-squared:                  0.870\n",
       "Method:                 Least Squares   F-statistic:                     5577.\n",
       "Date:                Mon, 13 Nov 2017   Prob (F-statistic):               0.00\n",
       "Time:                        14:11:24   Log-Likelihood:                 228.51\n",
       "No. Observations:               14999   AIC:                            -421.0\n",
       "Df Residuals:                   14981   BIC:                            -283.9\n",
       "Df Model:                          18                                         \n",
       "Covariance Type:            nonrobust                                         \n",
       "==========================================================================================\n",
       "                             coef    std err          t      P>|t|      [0.025      0.975]\n",
       "------------------------------------------------------------------------------------------\n",
       "last_evaluation            0.4367      0.012     37.250      0.000       0.414       0.460\n",
       "number_project            -0.0343      0.002    -18.963      0.000      -0.038      -0.031\n",
       "average_montly_hours       0.0008   4.19e-05     19.237      0.000       0.001       0.001\n",
       "time_spend_company         0.0079      0.001      5.826      0.000       0.005       0.011\n",
       "Work_accident              0.0133      0.006      2.380      0.017       0.002       0.024\n",
       "left                      -0.2320      0.005    -48.633      0.000      -0.241      -0.223\n",
       "promotion_last_5years      0.0206      0.014      1.497      0.135      -0.006       0.047\n",
       "department_RandD           0.1334      0.010     12.844      0.000       0.113       0.154\n",
       "department_accounting      0.1229      0.010     11.763      0.000       0.102       0.143\n",
       "department_hr              0.1410      0.011     13.330      0.000       0.120       0.162\n",
       "department_management      0.1660      0.011     14.659      0.000       0.144       0.188\n",
       "department_marketing       0.1480      0.010     14.681      0.000       0.128       0.168\n",
       "department_product_mng     0.1482      0.010     14.961      0.000       0.129       0.168\n",
       "department_sales           0.1468      0.007     20.912      0.000       0.133       0.161\n",
       "department_support         0.1477      0.008     18.895      0.000       0.132       0.163\n",
       "department_technical       0.1428      0.008     19.003      0.000       0.128       0.158\n",
       "salary_low                 0.1629      0.007     24.113      0.000       0.150       0.176\n",
       "salary_medium              0.1613      0.007     23.823      0.000       0.148       0.175\n",
       "==============================================================================\n",
       "Omnibus:                      464.829   Durbin-Watson:                   1.972\n",
       "Prob(Omnibus):                  0.000   Jarque-Bera (JB):              481.657\n",
       "Skew:                          -0.417   Prob(JB):                    2.57e-105\n",
       "Kurtosis:                       2.727   Cond. No.                     2.09e+03\n",
       "==============================================================================\n",
       "\n",
       "Warnings:\n",
       "[1] Standard Errors assume that the covariance matrix of the errors is correctly specified.\n",
       "[2] The condition number is large, 2.09e+03. This might indicate that there are\n",
       "strong multicollinearity or other numerical problems.\n",
       "\"\"\""
      ]
     },
     "execution_count": 160,
     "metadata": {},
     "output_type": "execute_result"
    }
   ],
   "source": [
    "#Note the difference in argument order\n",
    "model = sm.OLS(y, X).fit()\n",
    "predictions = model.predict(X) # make the predictions by the model\n",
    "\n",
    "#Print out the statistics\n",
    "model.summary()"
   ]
  },
  {
   "cell_type": "code",
   "execution_count": null,
   "metadata": {
    "collapsed": true
   },
   "outputs": [],
   "source": []
  },
  {
   "cell_type": "code",
   "execution_count": 161,
   "metadata": {
    "collapsed": false
   },
   "outputs": [
    {
     "name": "stdout",
     "output_type": "stream",
     "text": [
      "Least Angle Regression took\n",
      " training time:  0.012 s\n"
     ]
    }
   ],
   "source": [
    "#instantiate the model with the LARS; \n",
    "#http://scikit-learn.org/stable/modules/generated/sklearn.linear_model.Lars.html\n",
    "lr = linear_model.Lars(fit_intercept=True, verbose=False, normalize=True, \n",
    "                       n_nonzero_coefs=18, fit_path=True, positive=False) \n",
    "\n",
    "t0=time() #we use time() functionality to see how long training of the classifier will take\n",
    "#fit the model to the data\n",
    "linreg=lr.fit(X_train,y_train) #Now we  instantiate the LARS-Model.\n",
    "\n",
    "print(\"Least Angle Regression took\\n training time: \", round(time()-t0,3), \"s\")  #We print the training time, \n",
    "#that is equal to the processing time of the cell."
   ]
  },
  {
   "cell_type": "code",
   "execution_count": 162,
   "metadata": {
    "collapsed": false
   },
   "outputs": [
    {
     "data": {
      "image/png": "[encoded data removed]",
      "text/plain": [
       "<matplotlib.figure.Figure at 0x226d7064c18>"
      ]
     },
     "metadata": {},
     "output_type": "display_data"
    }
   ],
   "source": [
    "#plot predicted vs. test values - shows the quality of the model visually\n",
    "y_pred = lr.predict(X_test) #Predict labels based on the testing features\n",
    "\n",
    "plt.title('Graphical linear Model Evaluation') #printing the titel of the plot\n",
    "plt.xlabel('Predicted Satisfaction Level') #naming the x-axis of the plot\n",
    "plt.ylabel('Actual Satisfaction Level') #naming the y-axis  of the plot\n",
    "\n",
    "actual_values = y_test\n",
    "plt.scatter(y_pred, actual_values,alpha=.75, color='black')  #plots the predicted values\n",
    "#against the testing values\n",
    "plt.plot(y_test,y_test,linewidth=2.0) #draws a lineplot symbolizing the angle bisectrix \n",
    "\n",
    "plt.show()"
   ]
  },
  {
   "cell_type": "code",
   "execution_count": 163,
   "metadata": {
    "collapsed": false
   },
   "outputs": [
    {
     "name": "stdout",
     "output_type": "stream",
     "text": [
      "absolute error is: \n",
      " 0.178341413421\n",
      "RMSE is: \n",
      " 0.0496778356633\n"
     ]
    }
   ],
   "source": [
    "#regression metrics for the LARS\n",
    "\n",
    "ae=mean_absolute_error(y_test, y_pred) #calculating the the Mean Absolute Error betw. train- and test-set\n",
    "print ('absolute error is: \\n', ae)\n",
    "\n",
    "#Mean squared Error, Compared to Mean Absolute Error, RMSE amplifies and severely punishes large errors\n",
    "from sklearn.metrics import mean_squared_error\n",
    "print ('RMSE is: \\n', mean_squared_error(y_test, y_pred))"
   ]
  },
  {
   "cell_type": "code",
   "execution_count": 164,
   "metadata": {
    "collapsed": false
   },
   "outputs": [
    {
     "name": "stdout",
     "output_type": "stream",
     "text": [
      "0.617471814574\n",
      "[  2.41537082e-01  -4.07147700e-02   1.94566343e-04  -4.51634149e-03\n",
      "   1.38237345e-03  -2.26086694e-01   2.81970714e-03  -1.38231668e-02\n",
      "  -2.43199266e-02  -6.94839692e-03  -3.16897064e-03  -4.77138296e-03\n",
      "   3.40702101e-03   1.37541831e-03   1.84608730e-03  -6.93563248e-04\n",
      "   1.03726806e-02   1.25802755e-02]\n"
     ]
    }
   ],
   "source": [
    "#print the intercept and coefficients of the model\n",
    "print(linreg.intercept_)\n",
    "print(lr.coef_)"
   ]
  }
 ],
 "metadata": {
  "anaconda-cloud": {},
  "kernelspec": {
   "display_name": "Python [default]",
   "language": "python",
   "name": "python3"
  },
  "language_info": {
   "codemirror_mode": {
    "name": "ipython",
    "version": 3
   },
   "file_extension": ".py",
   "mimetype": "text/x-python",
   "name": "python",
   "nbconvert_exporter": "python",
   "pygments_lexer": "ipython3",
   "version": "3.5.2"
  }
 },
 "nbformat": 4,
 "nbformat_minor": 1
}
